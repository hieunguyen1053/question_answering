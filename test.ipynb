{
 "metadata": {
  "language_info": {
   "codemirror_mode": {
    "name": "ipython",
    "version": 3
   },
   "file_extension": ".py",
   "mimetype": "text/x-python",
   "name": "python",
   "nbconvert_exporter": "python",
   "pygments_lexer": "ipython3",
   "version": "3.8.8"
  },
  "orig_nbformat": 4,
  "kernelspec": {
   "name": "python3",
   "display_name": "Python 3.8.8 64-bit"
  },
  "interpreter": {
   "hash": "4b1cc25e9d19afce926dc1ce479e0080a204d94b6fc7711df08838a5eb22cec5"
  }
 },
 "nbformat": 4,
 "nbformat_minor": 2,
 "cells": [
  {
   "cell_type": "code",
   "execution_count": 1,
   "metadata": {},
   "outputs": [],
   "source": [
    "from question_answering.model.question_answering import question_answering"
   ]
  },
  {
   "cell_type": "code",
   "execution_count": 2,
   "metadata": {},
   "outputs": [],
   "source": [
    "from question_answering.IR_system.document_scoring import (DocumentScoring,\n",
    "                                                           PassageScoring)\n",
    "from question_answering.IR_system.search_engine import SearchEngine\n",
    "engine = SearchEngine()"
   ]
  },
  {
   "cell_type": "code",
   "execution_count": 110,
   "metadata": {},
   "outputs": [],
   "source": [
    "query = 'BTS là nhóm nhạc nước nào?'"
   ]
  },
  {
   "cell_type": "code",
   "execution_count": 111,
   "metadata": {},
   "outputs": [
    {
     "output_type": "stream",
     "name": "stdout",
     "text": [
      "['https://vi.wikipedia.org/wiki/BTS', 'https://baoquocte.vn/bts-la-nhom-nhac-han-quoc-dau-tien-gianh-ngoi-quan-quan-billboard-hot-100-122798.html', 'https://www.zila.com.vn/bts-bangtan-boys.html', 'https://www.zila.com.vn/bts-bangtan-boys.html#I_TIEU_SU_BTS', 'https://www.zila.com.vn/bts-bangtan-boys.html#II_BTS_NGHIA_LA_GI', 'https://www.zila.com.vn/bts-bangtan-boys.html#VI_TIEU_SU_BTS_THANH_VIEN', 'https://hanoimoi.com.vn/tin-tuc/Giai-tri/993841/nhom-nhac-bts-bieu-tuong-cho-su-thanh-cong-cua-k-pop', 'https://vnreview.vn/tin-tuc-xa-hoi-so/-/view_content/content/2629911/bts-la-ai-va-sao-ho-lai-thanh-cong-den-vay', 'https://www.35express.org/bts-la-ai-nhung-dieu-thu-vi-ve-nhom-nhac-kpop-lung-lay/', 'https://doanhnhan.edu.vn/nhom-bts/']\n"
     ]
    }
   ],
   "source": [
    "links = engine.search(query)[:10]\n",
    "print(links)\n",
    "contents = engine.get_all_contents(links)\n",
    "doc_score = DocumentScoring(contents, query)"
   ]
  },
  {
   "cell_type": "code",
   "execution_count": 112,
   "metadata": {},
   "outputs": [
    {
     "output_type": "stream",
     "name": "stdout",
     "text": [
      "Vậy nhóm nhạc BTS là ai ? Những thành_viên trong nhóm nhạc BTS BTS là ai ? Nhưng thông_tin trên giúp bạn hiểu rõ thêm phần_nào về nhóm nhạc BTS . Những thông_tin trên giúp bạn hiểu rõ thêm phần_nào về nhóm nhạc BTS là những ai . Những giải_thưởng đáng tự_hào của nhóm nhạc BTS Chắc_hẳn không ít người thắc_mắc , nhóm nhạc BTS là bao_gồm những ai ? Tiểu_sử V BTS ( BTS V profile ) Tiểu_sử về BTS Vậy Jin BTS là ai ? BTS là nhóm nhạc Hàn_Quốc được thành_lập và quản_lý bởi công_ty Big_Hit_Entertainment . Những giải_thưởng danh_giá mà nhóm nhạc này đạt được là : Để có được thành_công như ngày hôm_nay phải có những thành_viên góp_sức và nhóm gồm 7 thành_viên là : Jin BTS , RM BTS , Suga_BTS , J-Hope_BTS , Jimin_BTS , JungKook BTS , V BTS . BTS đã chính_thức nắm kỷ_lục thế_giới là nhóm nhạc có nhiều sự tương_tác trên Twitter nhất . Tiểu_sử Jin BTS ( BTS Jin profile ) Nhóm nhạc BTS đã đánh_dấu tên_tuổi của mình với hơn 10 kỷ_lục đáng nhớ nhất trên thị_trường\n"
     ]
    }
   ],
   "source": [
    "question = query\n",
    "my_filter = PassageScoring(doc_score.sorted_documents()[1], query)\n",
    "passge = ' '.join(my_filter.filterd_passage().to_str().split(' ')[:190])\n",
    "print(passge)"
   ]
  },
  {
   "cell_type": "code",
   "execution_count": 113,
   "metadata": {},
   "outputs": [
    {
     "output_type": "execute_result",
     "data": {
      "text/plain": [
       "'Hàn_Quốc'"
      ]
     },
     "metadata": {},
     "execution_count": 113
    }
   ],
   "source": [
    "question_answering(query, passge)"
   ]
  },
  {
   "cell_type": "code",
   "execution_count": null,
   "metadata": {},
   "outputs": [],
   "source": []
  }
 ]
}